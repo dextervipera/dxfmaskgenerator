from dxf_mask_generator_V1S0R0 import give_me_mask


mask_details ={
    'mask_height': 25,
    'mask_width': 25,
    'spike_width': 1.0,
    'spike_height': 10,
    'spike_sep_h': 1.0,
    'spike_sep_v': 1.0,
    'spike_count': 4,
    'spike_support': 2,
    'pad_width': 5,
    'pad_height': 3
}

give_me_mask(config=mask_details, filename='test')
